{
 "cells": [
  {
   "cell_type": "code",
   "execution_count": 12,
   "metadata": {},
   "outputs": [],
   "source": [
    "class Person:\n",
    "\n",
    "    # initialize\n",
    "    def __init__(self, name, title, gender):\n",
    "        self.name = name\n",
    "        self.title = title\n",
    "        self.gender = gender\n",
    "\n",
    "    # display full name\n",
    "    def display_name(self):\n",
    "        return self.name + ' ' + self.title\n",
    "\n",
    "    # display gender\n",
    "    def isgender(self):\n",
    "        return self.gender\n",
    "\n",
    "    # change first name\n",
    "    def change_first_name(self, new_name):\n",
    "        self.name = new_name\n",
    "\n",
    "    # change title\n",
    "    def change_title(self, new_title):\n",
    "        self.title = new_title\n"
   ]
  },
  {
   "cell_type": "code",
   "execution_count": 13,
   "metadata": {},
   "outputs": [],
   "source": [
    "# object name \"p\"\n",
    "p = Person('Rita', 'Roy', 'female')\n",
    "q = Person('ABC', 'DEF', 'M')"
   ]
  },
  {
   "cell_type": "code",
   "execution_count": 14,
   "metadata": {},
   "outputs": [
    {
     "name": "stdout",
     "output_type": "stream",
     "text": [
      "Rita Roy\n",
      "==================================================\n"
     ]
    }
   ],
   "source": [
    "# display full name\n",
    "print(p.display_name())\n",
    "print('='*50)"
   ]
  },
  {
   "cell_type": "code",
   "execution_count": 9,
   "metadata": {},
   "outputs": [
    {
     "name": "stdout",
     "output_type": "stream",
     "text": [
      "ABC DEF\n",
      "==================================================\n"
     ]
    }
   ],
   "source": [
    "# display full name\n",
    "print(q.display_name())\n",
    "print('='*50)"
   ]
  },
  {
   "cell_type": "code",
   "execution_count": 10,
   "metadata": {},
   "outputs": [],
   "source": [
    "# change first name\n",
    "p.change_first_name('Amrita')\n"
   ]
  },
  {
   "cell_type": "code",
   "execution_count": null,
   "metadata": {},
   "outputs": [],
   "source": []
  },
  {
   "cell_type": "code",
   "execution_count": null,
   "metadata": {},
   "outputs": [],
   "source": [
    "# object name \"p\"\n",
    "p = Person('Rita', 'Roy', 'female')\n",
    "\n",
    "# display full name\n",
    "print(p.display_name())\n",
    "print('='*50)\n",
    "\n",
    "# display gender\n",
    "print(p.isgender())\n",
    "print('='*50)\n",
    "\n",
    "# change first name\n",
    "p.change_first_name('Amrita')\n",
    "\n",
    "# change title\n",
    "p.change_title('Ganguly')\n",
    "\n",
    "# print full name\n",
    "print(p.display_name())"
   ]
  },
  {
   "cell_type": "markdown",
   "metadata": {},
   "source": [
    "# Inheritance"
   ]
  },
  {
   "cell_type": "code",
   "execution_count": 39,
   "metadata": {},
   "outputs": [
    {
     "name": "stdout",
     "output_type": "stream",
     "text": [
      "Geek1 False\n"
     ]
    }
   ],
   "source": [
    "class Person(object): \n",
    "       \n",
    "    # Constructor \n",
    "    def __init__(self, name): \n",
    "        self.name = name \n",
    "   \n",
    "    # To get name \n",
    "    def getName(self): \n",
    "        return self.name \n",
    "   \n",
    "    # To check if this person is employee \n",
    "    def isEmployee(self): \n",
    "        return False\n",
    "   \n",
    "   \n",
    "# Inherited or Sub class (Note Person in bracket) \n",
    "class Employee(Person): \n",
    "   \n",
    "    # Here we return true \n",
    "    def isEmployee(self): \n",
    "        return True\n",
    "   \n",
    "# Driver code \n",
    "emp = Person(\"Geek1\")  # An Object of Person \n",
    "print(emp.getName(), emp.isEmployee()) \n"
   ]
  },
  {
   "cell_type": "code",
   "execution_count": 42,
   "metadata": {},
   "outputs": [
    {
     "ename": "NameError",
     "evalue": "name 'self' is not defined",
     "output_type": "error",
     "traceback": [
      "\u001b[0;31m---------------------------------------------------------------------------\u001b[0m",
      "\u001b[0;31mNameError\u001b[0m                                 Traceback (most recent call last)",
      "\u001b[0;32m<ipython-input-42-5e55a97f5854>\u001b[0m in \u001b[0;36m<module>\u001b[0;34m()\u001b[0m\n\u001b[1;32m      1\u001b[0m \u001b[0memp\u001b[0m \u001b[0;34m=\u001b[0m \u001b[0mEmployee\u001b[0m\u001b[0;34m(\u001b[0m\u001b[0;34m\"Geek2\"\u001b[0m\u001b[0;34m)\u001b[0m \u001b[0;31m# An Object of Employee\u001b[0m\u001b[0;34m\u001b[0m\u001b[0m\n\u001b[0;32m----> 2\u001b[0;31m \u001b[0mprint\u001b[0m\u001b[0;34m(\u001b[0m\u001b[0memp\u001b[0m\u001b[0;34m.\u001b[0m\u001b[0mgetName\u001b[0m\u001b[0;34m(\u001b[0m\u001b[0;34m)\u001b[0m\u001b[0;34m,\u001b[0m \u001b[0msuper\u001b[0m\u001b[0;34m(\u001b[0m\u001b[0mEmployee\u001b[0m\u001b[0;34m,\u001b[0m \u001b[0mself\u001b[0m\u001b[0;34m)\u001b[0m\u001b[0;34m.\u001b[0m\u001b[0memp\u001b[0m\u001b[0;34m.\u001b[0m\u001b[0misEmployee\u001b[0m\u001b[0;34m(\u001b[0m\u001b[0;34m)\u001b[0m\u001b[0;34m)\u001b[0m\u001b[0;34m\u001b[0m\u001b[0m\n\u001b[0m",
      "\u001b[0;31mNameError\u001b[0m: name 'self' is not defined"
     ]
    }
   ],
   "source": [
    "emp = Employee(\"Geek2\") # An Object of Employee \n",
    "print(emp.getName(), super(Employee,).emp.isEmployee())\n"
   ]
  },
  {
   "cell_type": "markdown",
   "metadata": {},
   "source": [
    "# Polymorphism"
   ]
  },
  {
   "cell_type": "code",
   "execution_count": 17,
   "metadata": {},
   "outputs": [
    {
     "name": "stdout",
     "output_type": "stream",
     "text": [
      "5\n",
      "3\n"
     ]
    }
   ],
   "source": [
    "# len() being used for a string \n",
    "print(len(\"abcde\")) \n",
    "  \n",
    "# len() being used for a list \n",
    "print(len([10, 20, 30])) "
   ]
  },
  {
   "cell_type": "code",
   "execution_count": 18,
   "metadata": {},
   "outputs": [
    {
     "name": "stdout",
     "output_type": "stream",
     "text": [
      "5\n",
      "9\n"
     ]
    }
   ],
   "source": [
    "def add(x, y, z = 0):  \n",
    "    return x + y + z \n",
    "  \n",
    "print(add(2, 3)) \n",
    "print(add(2, 3, 4)) "
   ]
  },
  {
   "cell_type": "code",
   "execution_count": 19,
   "metadata": {},
   "outputs": [],
   "source": [
    "class Bird: \n",
    "  def intro(self): \n",
    "    print(\"intro birds\") \n",
    "      \n",
    "  def flight(self): \n",
    "    print(\"flight birds\") \n",
    "    \n",
    "class sparrow(Bird): # Pay attention here\n",
    "  def flight(self): \n",
    "    print(\"flight sparrow\") \n",
    "      \n",
    "      \n",
    "obj_bird = Bird() \n",
    "obj_spr = sparrow() "
   ]
  },
  {
   "cell_type": "code",
   "execution_count": 20,
   "metadata": {},
   "outputs": [
    {
     "name": "stdout",
     "output_type": "stream",
     "text": [
      "intro birds\n",
      "flight birds\n"
     ]
    }
   ],
   "source": [
    "obj_bird.intro() \n",
    "obj_bird.flight() "
   ]
  },
  {
   "cell_type": "code",
   "execution_count": 24,
   "metadata": {},
   "outputs": [
    {
     "name": "stdout",
     "output_type": "stream",
     "text": [
      "==================================================\n",
      "intro birds\n"
     ]
    },
    {
     "ename": "AttributeError",
     "evalue": "'sparrow' object has no attribute '_Bird'",
     "output_type": "error",
     "traceback": [
      "\u001b[0;31m---------------------------------------------------------------------------\u001b[0m",
      "\u001b[0;31mAttributeError\u001b[0m                            Traceback (most recent call last)",
      "\u001b[0;32m<ipython-input-24-040acdeca8dd>\u001b[0m in \u001b[0;36m<module>\u001b[0;34m()\u001b[0m\n\u001b[1;32m      2\u001b[0m \u001b[0;34m\u001b[0m\u001b[0m\n\u001b[1;32m      3\u001b[0m \u001b[0mobj_spr\u001b[0m\u001b[0;34m.\u001b[0m\u001b[0mintro\u001b[0m\u001b[0;34m(\u001b[0m\u001b[0;34m)\u001b[0m\u001b[0;34m\u001b[0m\u001b[0m\n\u001b[0;32m----> 4\u001b[0;31m \u001b[0mobj_spr\u001b[0m\u001b[0;34m.\u001b[0m\u001b[0m_Bird\u001b[0m\u001b[0;34m\u001b[0m\u001b[0m\n\u001b[0m\u001b[1;32m      5\u001b[0m \u001b[0;34m\u001b[0m\u001b[0m\n",
      "\u001b[0;31mAttributeError\u001b[0m: 'sparrow' object has no attribute '_Bird'"
     ]
    }
   ],
   "source": [
    "print('='*50)\n",
    "\n",
    "obj_spr.intro() \n",
    "obj_spr.flight() \n",
    "  "
   ]
  },
  {
   "cell_type": "markdown",
   "metadata": {},
   "source": [
    "# Encapsulation"
   ]
  },
  {
   "cell_type": "code",
   "execution_count": 26,
   "metadata": {
    "scrolled": false
   },
   "outputs": [
    {
     "name": "stdout",
     "output_type": "stream",
     "text": [
      "firstName\n"
     ]
    }
   ],
   "source": [
    "class Person:\n",
    "  def __init__(self): \n",
    "    self.name = 'firstName'\n",
    "    self.__lastname = 'lastName' #Pay Attention here __\n",
    "    \n",
    "  def PrintName(self):\n",
    "    return self.name +' ' + self.__lastname\n",
    "    \n",
    "#Outside class    \n",
    "P = Person()\n",
    "print(P.name)"
   ]
  },
  {
   "cell_type": "code",
   "execution_count": 27,
   "metadata": {},
   "outputs": [
    {
     "name": "stdout",
     "output_type": "stream",
     "text": [
      "firstName lastName\n"
     ]
    }
   ],
   "source": [
    "print(P.PrintName())"
   ]
  },
  {
   "cell_type": "code",
   "execution_count": 28,
   "metadata": {
    "scrolled": true
   },
   "outputs": [
    {
     "ename": "AttributeError",
     "evalue": "'Person' object has no attribute '__lastname'",
     "output_type": "error",
     "traceback": [
      "\u001b[0;31m---------------------------------------------------------------------------\u001b[0m",
      "\u001b[0;31mAttributeError\u001b[0m                            Traceback (most recent call last)",
      "\u001b[0;32m<ipython-input-28-1e58f4cca717>\u001b[0m in \u001b[0;36m<module>\u001b[0;34m()\u001b[0m\n\u001b[0;32m----> 1\u001b[0;31m \u001b[0mprint\u001b[0m\u001b[0;34m(\u001b[0m\u001b[0mP\u001b[0m\u001b[0;34m.\u001b[0m\u001b[0m__lastname\u001b[0m\u001b[0;34m)\u001b[0m\u001b[0;34m\u001b[0m\u001b[0m\n\u001b[0m",
      "\u001b[0;31mAttributeError\u001b[0m: 'Person' object has no attribute '__lastname'"
     ]
    }
   ],
   "source": [
    "print(P.__lastname)"
   ]
  },
  {
   "cell_type": "code",
   "execution_count": 29,
   "metadata": {},
   "outputs": [
    {
     "name": "stdout",
     "output_type": "stream",
     "text": [
      "lastName\n"
     ]
    }
   ],
   "source": [
    "print(P._Person__lastname)"
   ]
  },
  {
   "cell_type": "code",
   "execution_count": null,
   "metadata": {},
   "outputs": [],
   "source": [
    "print(P.PrintName())\n",
    "print(P.__lastname)\n",
    "print(P._Person__lastname)\n"
   ]
  },
  {
   "cell_type": "code",
   "execution_count": null,
   "metadata": {},
   "outputs": [],
   "source": []
  }
 ],
 "metadata": {
  "kernelspec": {
   "display_name": "Python 3",
   "language": "python",
   "name": "python3"
  },
  "language_info": {
   "codemirror_mode": {
    "name": "ipython",
    "version": 3
   },
   "file_extension": ".py",
   "mimetype": "text/x-python",
   "name": "python",
   "nbconvert_exporter": "python",
   "pygments_lexer": "ipython3",
   "version": "3.7.0"
  }
 },
 "nbformat": 4,
 "nbformat_minor": 2
}
