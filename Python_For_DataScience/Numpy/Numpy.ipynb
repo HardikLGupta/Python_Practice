{
 "cells": [
  {
   "cell_type": "code",
   "execution_count": 1,
   "metadata": {},
   "outputs": [],
   "source": [
    "# To print multiple outputs together\n",
    "from IPython.core.interactiveshell import InteractiveShell\n",
    "InteractiveShell.ast_node_interactivity = \"all\"\n",
    "\n",
    "pd.set_option('display.max_columns', 100)\n",
    "pd.set_option('display.max_rows', 1000)\n"
   ]
  },
  {
   "cell_type": "markdown",
   "metadata": {},
   "source": [
    "# What is Dimension?\n",
    "\n",
    "Dimension is the number of coordinates needed to specify a point in space. For example, a rectangle is two-dimensional, while a cube is three-dimensional. The dimension of an object is sometimes also called its dimensionality."
   ]
  },
  {
   "cell_type": "markdown",
   "metadata": {},
   "source": [
    "# What is Matrix?\n",
    "\n",
    "A matrix is a two-dimensional data structure where numbers are arranged into rows and columns.\n",
    "\n",
    "<center>\n",
    "<img src = 'images/Matrix.png' height=350 width=350 />\n",
    "    \n",
    "This matrix is a 3x4 (pronounced \"three by four\") matrix because it has 3 rows and 4 columns."
   ]
  },
  {
   "cell_type": "markdown",
   "metadata": {},
   "source": [
    "# Python Matrix"
   ]
  },
  {
   "cell_type": "markdown",
   "metadata": {},
   "source": [
    "Python doesn't have a built-in type for matrices. However, we can treat list of a list as a matrix. For example:"
   ]
  },
  {
   "cell_type": "code",
   "execution_count": 2,
   "metadata": {},
   "outputs": [
    {
     "data": {
      "text/plain": [
       "[[1, 4, 5], [-5, 8, 9]]"
      ]
     },
     "execution_count": 2,
     "metadata": {},
     "output_type": "execute_result"
    }
   ],
   "source": [
    "A = [[1, 4, 5], \n",
    "    [-5, 8, 9]]\n",
    "A\n",
    "\n",
    "# We can treat this list of a list as a matrix having 2 rows and 3 columns."
   ]
  },
  {
   "cell_type": "markdown",
   "metadata": {},
   "source": [
    "#### Let's see how to work with a nested list."
   ]
  },
  {
   "cell_type": "code",
   "execution_count": 3,
   "metadata": {},
   "outputs": [
    {
     "name": "stdout",
     "output_type": "stream",
     "text": [
      "A = [[1, 4, 5, 12], [-5, 8, 9, 0], [-6, 7, 11, 19]]\n",
      "A[1] = [-5, 8, 9, 0]\n",
      "A[1][2] = 9\n",
      "A[0][-1] = 12\n"
     ]
    }
   ],
   "source": [
    "A = [[1, 4, 5, 12], \n",
    "    [-5, 8, 9, 0],\n",
    "    [-6, 7, 11, 19]]\n",
    "\n",
    "print(\"A =\", A) \n",
    "print(\"A[1] =\", A[1])   # 2nd row\n",
    "print(\"A[1][2] =\", A[1][2])   # 3rd element of 2nd row\n",
    "print(\"A[0][-1] =\", A[0][-1])   # Last element of 1st Row\n"
   ]
  },
  {
   "cell_type": "markdown",
   "metadata": {},
   "source": [
    "#### Extract one column"
   ]
  },
  {
   "cell_type": "code",
   "execution_count": 4,
   "metadata": {},
   "outputs": [
    {
     "name": "stdout",
     "output_type": "stream",
     "text": [
      "[1, 4, 5, 12]\n",
      "5\n",
      "[-5, 8, 9, 0]\n",
      "9\n",
      "[-6, 7, 11, 19]\n",
      "11\n",
      "3rd column = [5, 9, 11]\n"
     ]
    }
   ],
   "source": [
    "column = []; # empty list\n",
    "\n",
    "for row in A:\n",
    "    print(row)\n",
    "    print(row[2])\n",
    "    column.append(row[2])   \n",
    "    \n",
    "print(\"3rd column =\", column)"
   ]
  },
  {
   "cell_type": "markdown",
   "metadata": {},
   "source": [
    "# Computations With List and Matrices - Element by Element"
   ]
  },
  {
   "cell_type": "markdown",
   "metadata": {},
   "source": [
    "## Add Two List"
   ]
  },
  {
   "cell_type": "code",
   "execution_count": 5,
   "metadata": {},
   "outputs": [],
   "source": [
    "def initialise_list():\n",
    "    # initializing lists \n",
    "    test_list1 = [1, 3, 4, 6, 8] \n",
    "    test_list2 = [4, 5, 6, 2, 10] \n",
    "\n",
    "    # printing original lists \n",
    "    print(\"Original list 1 : \" + str(test_list1)) \n",
    "    print(\"Original list 2 : \" + str(test_list2)) \n",
    "    \n",
    "    return test_list1, test_list2"
   ]
  },
  {
   "cell_type": "markdown",
   "metadata": {},
   "source": [
    "### Method 1 : Naive Method"
   ]
  },
  {
   "cell_type": "code",
   "execution_count": 6,
   "metadata": {},
   "outputs": [
    {
     "name": "stdout",
     "output_type": "stream",
     "text": [
      "Original list 1 : [1, 3, 4, 6, 8]\n",
      "Original list 2 : [4, 5, 6, 2, 10]\n",
      "Resultant list is : [5, 8, 10, 8, 18]\n"
     ]
    }
   ],
   "source": [
    "test_list1, test_list2 = initialise_list()\n",
    "res_list = [] \n",
    "\n",
    "for i in range(0, len(test_list1)): \n",
    "    res_list.append(test_list1[i] + test_list2[i]) \n",
    "\n",
    "# printing resultant list  \n",
    "print(\"Resultant list is : \" + str(res_list)) "
   ]
  },
  {
   "cell_type": "markdown",
   "metadata": {},
   "source": [
    "### Method 2 : Using List Comprehension"
   ]
  },
  {
   "cell_type": "code",
   "execution_count": 7,
   "metadata": {},
   "outputs": [
    {
     "name": "stdout",
     "output_type": "stream",
     "text": [
      "Original list 1 : [1, 3, 4, 6, 8]\n",
      "Original list 2 : [4, 5, 6, 2, 10]\n"
     ]
    },
    {
     "data": {
      "text/plain": [
       "([1, 3, 4, 6, 8], [4, 5, 6, 2, 10])"
      ]
     },
     "execution_count": 7,
     "metadata": {},
     "output_type": "execute_result"
    },
    {
     "name": "stdout",
     "output_type": "stream",
     "text": [
      "Resultant list is : [5, 8, 10, 8, 18]\n"
     ]
    }
   ],
   "source": [
    "initialise_list()\n",
    "\n",
    "res_list = [test_list1[i] + test_list2[i] for i in range(len(test_list1))] \n",
    "  \n",
    "# printing resultant list  \n",
    "print(\"Resultant list is : \" + str(res_list)) "
   ]
  },
  {
   "cell_type": "markdown",
   "metadata": {},
   "source": [
    "### Method 3 : using map() and add()"
   ]
  },
  {
   "cell_type": "code",
   "execution_count": 8,
   "metadata": {},
   "outputs": [
    {
     "name": "stdout",
     "output_type": "stream",
     "text": [
      "Original list 1 : [1, 3, 4, 6, 8]\n",
      "Original list 2 : [4, 5, 6, 2, 10]\n"
     ]
    },
    {
     "data": {
      "text/plain": [
       "([1, 3, 4, 6, 8], [4, 5, 6, 2, 10])"
      ]
     },
     "execution_count": 8,
     "metadata": {},
     "output_type": "execute_result"
    },
    {
     "name": "stdout",
     "output_type": "stream",
     "text": [
      "Resultant list is : [5, 8, 10, 8, 18]\n"
     ]
    }
   ],
   "source": [
    "from operator import add \n",
    "  \n",
    "initialise_list()\n",
    "\n",
    "res_list = list(map(add, test_list1, test_list2)) \n",
    "  \n",
    "# printing resultant list  \n",
    "print(\"Resultant list is : \" + str(res_list)) "
   ]
  },
  {
   "cell_type": "markdown",
   "metadata": {},
   "source": [
    "### Method 4 : Using zip() + sum()"
   ]
  },
  {
   "cell_type": "markdown",
   "metadata": {},
   "source": [
    "The `zip()` function take iterables (can be zero or more), makes iterator that aggregates elements based on the iterables passed, and returns an iterator of tuples.\n",
    "\n",
    "Syntax - `zip(*iterables)`\n",
    "\n",
    "**iterables** - can be built-in iterables (like: list, string, dict), or user-defined iterables (object that has __iter__ method).\n",
    "\n",
    "The `zip()` function returns an iterator of tuples based on the iterable object.\n",
    "\n",
    "- If no parameters are passed, `zip()` returns an empty iterator\n",
    "- If a single iterable is passed, `zip()` returns an iterator of 1-tuples. Meaning, the number of elements in each tuple is 1.\n",
    "- If multiple iterables are passed, ith tuple contains ith Suppose, two iterables are passed; one iterable containing 3 and other containing 5 elements. Then, the returned iterator has 3 tuples. It's because iterator stops when shortest iterable is exhaused."
   ]
  },
  {
   "cell_type": "code",
   "execution_count": 9,
   "metadata": {},
   "outputs": [
    {
     "name": "stdout",
     "output_type": "stream",
     "text": [
      "<zip object at 0x10eed6b48>\n",
      "[]\n",
      "<zip object at 0x10eed6b48>\n",
      "[(1, 'one'), (2, 'two'), (3, 'three')]\n",
      "[(1, 'one'), (2, 'two'), (3, 'three')]\n"
     ]
    }
   ],
   "source": [
    "numberList = [1, 2, 3]\n",
    "strList = ['one', 'two', 'three']\n",
    "\n",
    "# No iterables are passed\n",
    "print(zip())\n",
    "\n",
    "# Converting itertor to list\n",
    "print(list(zip()))\n",
    "\n",
    "# Two iterables are passed\n",
    "print(zip(numberList, strList))\n",
    "print(list(zip(numberList, strList)))\n",
    "\n",
    "numberList = [1, 2, 3, 4]\n",
    "strList = ['one', 'two', 'three']\n",
    "print(list(zip(numberList, strList)))"
   ]
  },
  {
   "cell_type": "code",
   "execution_count": 10,
   "metadata": {},
   "outputs": [
    {
     "name": "stdout",
     "output_type": "stream",
     "text": [
      "Original list 1 : [1, 3, 4, 6, 8]\n",
      "Original list 2 : [4, 5, 6, 2, 10]\n"
     ]
    },
    {
     "data": {
      "text/plain": [
       "([1, 3, 4, 6, 8], [4, 5, 6, 2, 10])"
      ]
     },
     "execution_count": 10,
     "metadata": {},
     "output_type": "execute_result"
    },
    {
     "name": "stdout",
     "output_type": "stream",
     "text": [
      "Zip Output: [(1, 4), (3, 5), (4, 6), (6, 2), (8, 10)]\n",
      "Resultant list is : [5, 8, 10, 8, 18]\n"
     ]
    }
   ],
   "source": [
    "from operator import add \n",
    "  \n",
    "initialise_list()\n",
    "\n",
    "print(\"Zip Output: \" + str(list(zip(test_list1, test_list2))))\n",
    "\n",
    "res_list = [sum(i) for i in zip(test_list1, test_list2)] \n",
    "  \n",
    "# printing resultant list  \n",
    "print(\"Resultant list is : \" + str(res_list)) "
   ]
  },
  {
   "cell_type": "markdown",
   "metadata": {},
   "source": [
    "## Add Two Matrices"
   ]
  },
  {
   "cell_type": "markdown",
   "metadata": {},
   "source": [
    "### Method 1 : Using for loop"
   ]
  },
  {
   "cell_type": "code",
   "execution_count": 11,
   "metadata": {
    "scrolled": true
   },
   "outputs": [
    {
     "name": "stdout",
     "output_type": "stream",
     "text": [
      "[[10, 10, 10], [10, 10, 10], [10, 10, 10]]\n",
      " \n",
      "[10, 10, 10]\n",
      "[10, 10, 10]\n",
      "[10, 10, 10]\n"
     ]
    }
   ],
   "source": [
    "X = [[1,2,3], \n",
    "    [4 ,5,6], \n",
    "    [7 ,8,9]] \n",
    "  \n",
    "Y = [[9,8,7], \n",
    "    [6,5,4], \n",
    "    [3,2,1]] \n",
    "\n",
    "result = [[0,0,0], \n",
    "        [0,0,0], \n",
    "        [0,0,0]] \n",
    "  \n",
    "# iterate through rows \n",
    "for i in range(len(X)):    \n",
    "    # iterate through columns \n",
    "    for j in range(len(X[0])): \n",
    "        result[i][j] = X[i][j] + Y[i][j] \n",
    "\n",
    "print(result)\n",
    "print(\" \")\n",
    "        \n",
    "for r in result: \n",
    "    print(r) "
   ]
  },
  {
   "cell_type": "markdown",
   "metadata": {},
   "source": [
    "### Method 2 : Using nested list comprehension"
   ]
  },
  {
   "cell_type": "code",
   "execution_count": 12,
   "metadata": {},
   "outputs": [
    {
     "name": "stdout",
     "output_type": "stream",
     "text": [
      "[10, 10, 10]\n",
      "[10, 10, 10]\n",
      "[10, 10, 10]\n"
     ]
    }
   ],
   "source": [
    "X = [[1,2,3], \n",
    "    [4 ,5,6], \n",
    "    [7 ,8,9]] \n",
    "   \n",
    "Y = [[9,8,7], \n",
    "    [6,5,4], \n",
    "    [3,2,1]] \n",
    "  \n",
    "result = [[X[i][j] + Y[i][j]  for j in range(len(X[0]))] for i in range(len(X))] \n",
    "   \n",
    "for r in result: \n",
    "    print(r) "
   ]
  },
  {
   "cell_type": "markdown",
   "metadata": {},
   "source": [
    "# Numpy"
   ]
  },
  {
   "cell_type": "markdown",
   "metadata": {},
   "source": [
    "Advanatages of numpy\n",
    "\n",
    "- Support for multi-dimension array\n",
    "- Built in array operations, Has a lot of built-in functions for linear algebra\n",
    "- Vectorization and Broadcasting. Faster access in reading and writing items\n",
    "- Time and space complexity of tasks is much lower when compared with traditional data structures\n",
    "- Absolutely free since open-sourced"
   ]
  },
  {
   "cell_type": "markdown",
   "metadata": {},
   "source": [
    "## Creating NumPy arrays"
   ]
  },
  {
   "cell_type": "code",
   "execution_count": 13,
   "metadata": {},
   "outputs": [
    {
     "name": "stdout",
     "output_type": "stream",
     "text": [
      "[1 2 3 4]\n",
      "----\n",
      "[[1 2 3 4]\n",
      " [5 6 7 8]]\n",
      "----\n",
      "[[[ 1  2  3  4]\n",
      "  [ 5  6  7  8]\n",
      "  [ 2  4  6  8]]\n",
      "\n",
      " [[10 20 30 40]\n",
      "  [50 60 70 80]\n",
      "  [ 1  3  5  7]]]\n"
     ]
    }
   ],
   "source": [
    "import numpy as np\n",
    "a = np.array([1,2,3,4])               # creates a 1-dimensional array\n",
    "b = np.array([ [1,2,3,4], [5,6,7,8] ])    # creates a 2-dimensional array\n",
    "c = np.array([\n",
    "               [[1,2,3,4], [5,6,7,8], [2,4,6,8]],\n",
    "               [[10,20,30,40], [50,60,70,80], [1,3,5,7]]\n",
    "              ])    # creates a 3-dimensional array\n",
    "print(a)\n",
    "print('----')\n",
    "print(b)\n",
    "print('----')\n",
    "print(c)"
   ]
  },
  {
   "cell_type": "code",
   "execution_count": 14,
   "metadata": {},
   "outputs": [
    {
     "data": {
      "text/plain": [
       "numpy.ndarray"
      ]
     },
     "execution_count": 14,
     "metadata": {},
     "output_type": "execute_result"
    }
   ],
   "source": [
    "type(c)"
   ]
  },
  {
   "cell_type": "markdown",
   "metadata": {},
   "source": [
    "## Attributes of NumPy arrays"
   ]
  },
  {
   "cell_type": "code",
   "execution_count": 15,
   "metadata": {},
   "outputs": [
    {
     "data": {
      "text/plain": [
       "array([1, 2, 3, 4])"
      ]
     },
     "execution_count": 15,
     "metadata": {},
     "output_type": "execute_result"
    },
    {
     "data": {
      "text/plain": [
       "array([[1, 2, 3, 4],\n",
       "       [5, 6, 7, 8]])"
      ]
     },
     "execution_count": 15,
     "metadata": {},
     "output_type": "execute_result"
    }
   ],
   "source": [
    "a = np.array([1,2,3,4])\n",
    "b = np.array([[1,2,3,4], [5,6,7,8]])\n",
    "a\n",
    "b"
   ]
  },
  {
   "cell_type": "code",
   "execution_count": 16,
   "metadata": {},
   "outputs": [
    {
     "name": "stdout",
     "output_type": "stream",
     "text": [
      "The shape of the array a is  (4,)\n",
      "The shape of the array b is  (2, 4)\n"
     ]
    }
   ],
   "source": [
    "print('The shape of the array a is ', a.shape)\n",
    "print('The shape of the array b is ', b.shape)"
   ]
  },
  {
   "cell_type": "code",
   "execution_count": 17,
   "metadata": {},
   "outputs": [
    {
     "name": "stdout",
     "output_type": "stream",
     "text": [
      "The dimensions of array a is  1\n",
      "The dimensions of array b is  2\n"
     ]
    }
   ],
   "source": [
    "print('The dimensions of array a is ', a.ndim)\n",
    "print('The dimensions of array b is ', b.ndim)"
   ]
  },
  {
   "cell_type": "code",
   "execution_count": 18,
   "metadata": {},
   "outputs": [
    {
     "name": "stdout",
     "output_type": "stream",
     "text": [
      "The size of the array a is  4\n",
      "The size of the array b is  8\n",
      "The size of the array b is  4\n"
     ]
    }
   ],
   "source": [
    "print('The size of the array a is ', a.size)\n",
    "print('The size of the array b is ', b.size)\n",
    "print('The size of the array b is ', b[0].size)"
   ]
  },
  {
   "cell_type": "code",
   "execution_count": 19,
   "metadata": {},
   "outputs": [
    {
     "name": "stdout",
     "output_type": "stream",
     "text": [
      "The datatype of the array a is  int64\n",
      "The datatype of the array b is  int64\n"
     ]
    }
   ],
   "source": [
    "print('The datatype of the array a is ', a.dtype)\n",
    "print('The datatype of the array b is ', b.dtype)"
   ]
  },
  {
   "cell_type": "code",
   "execution_count": 20,
   "metadata": {},
   "outputs": [
    {
     "name": "stdout",
     "output_type": "stream",
     "text": [
      "The number of bytes in each element of the array a is   8\n",
      "The number of bytes in each element of the array b is  8\n"
     ]
    }
   ],
   "source": [
    "print('The number of bytes in each element of the array a is  ', a.itemsize)\n",
    "print('The number of bytes in each element of the array b is ', b.itemsize)"
   ]
  },
  {
   "cell_type": "markdown",
   "metadata": {},
   "source": [
    "## Creating with Low-level ndarray Constructor"
   ]
  },
  {
   "cell_type": "code",
   "execution_count": 21,
   "metadata": {},
   "outputs": [
    {
     "data": {
      "text/plain": [
       "array([[ 0,  0,  0,  0],\n",
       "       [ 0,  0,  0, 80],\n",
       "       [ 0,  0,  0,  0]], dtype=int8)"
      ]
     },
     "execution_count": 21,
     "metadata": {},
     "output_type": "execute_result"
    }
   ],
   "source": [
    "np.empty((3,4),dtype='int8')"
   ]
  },
  {
   "cell_type": "code",
   "execution_count": 22,
   "metadata": {},
   "outputs": [
    {
     "data": {
      "text/plain": [
       "array([[0, 0, 0, 0],\n",
       "       [0, 0, 0, 0],\n",
       "       [0, 0, 0, 0]], dtype=int8)"
      ]
     },
     "execution_count": 22,
     "metadata": {},
     "output_type": "execute_result"
    }
   ],
   "source": [
    "np.zeros((3,4),dtype='int8')"
   ]
  },
  {
   "cell_type": "code",
   "execution_count": 23,
   "metadata": {},
   "outputs": [
    {
     "data": {
      "text/plain": [
       "array([[1, 1, 1, 1],\n",
       "       [1, 1, 1, 1],\n",
       "       [1, 1, 1, 1]], dtype=int8)"
      ]
     },
     "execution_count": 23,
     "metadata": {},
     "output_type": "execute_result"
    }
   ],
   "source": [
    "np.ones((3,4),dtype='int8')"
   ]
  },
  {
   "cell_type": "code",
   "execution_count": 24,
   "metadata": {},
   "outputs": [
    {
     "data": {
      "text/plain": [
       "array([[7, 7],\n",
       "       [7, 7]])"
      ]
     },
     "execution_count": 24,
     "metadata": {},
     "output_type": "execute_result"
    }
   ],
   "source": [
    "np.full((2,2),7)"
   ]
  },
  {
   "cell_type": "code",
   "execution_count": 25,
   "metadata": {},
   "outputs": [
    {
     "data": {
      "text/plain": [
       "array([[1., 0., 0.],\n",
       "       [0., 1., 0.],\n",
       "       [0., 0., 1.]])"
      ]
     },
     "execution_count": 25,
     "metadata": {},
     "output_type": "execute_result"
    }
   ],
   "source": [
    "np.eye(3)"
   ]
  },
  {
   "cell_type": "code",
   "execution_count": 26,
   "metadata": {},
   "outputs": [
    {
     "data": {
      "text/plain": [
       "array([[1., 0., 0., 0.],\n",
       "       [0., 1., 0., 0.],\n",
       "       [0., 0., 1., 0.],\n",
       "       [0., 0., 0., 1.]], dtype=float32)"
      ]
     },
     "execution_count": 26,
     "metadata": {},
     "output_type": "execute_result"
    }
   ],
   "source": [
    "np.eye(4, dtype = 'float32')"
   ]
  },
  {
   "cell_type": "markdown",
   "metadata": {},
   "source": [
    "## Creating with Existing Data"
   ]
  },
  {
   "cell_type": "code",
   "execution_count": 27,
   "metadata": {},
   "outputs": [
    {
     "name": "stdout",
     "output_type": "stream",
     "text": [
      "[1 2 3]\n"
     ]
    }
   ],
   "source": [
    "#python list\n",
    "a=[1,2,3]\n",
    "\n",
    "#convert to NumPy array\n",
    "b=np.asarray(a)\n",
    "print(b)"
   ]
  },
  {
   "cell_type": "code",
   "execution_count": 28,
   "metadata": {},
   "outputs": [
    {
     "name": "stdout",
     "output_type": "stream",
     "text": [
      "[[1 2]\n",
      " [3 4]]\n"
     ]
    }
   ],
   "source": [
    "#python tuples\n",
    "a=((1,2),(3,4))\n",
    "\n",
    "#convery to NumPy array\n",
    "b=np.asarray(a)\n",
    "print(b)"
   ]
  },
  {
   "cell_type": "code",
   "execution_count": 29,
   "metadata": {},
   "outputs": [
    {
     "name": "stdout",
     "output_type": "stream",
     "text": [
      "Array a is  [1 2 3 4]\n",
      "Array b is  [1 2 3 4]\n",
      "Array c is  [1 2 3 4]\n",
      "Array d is  [b's' b't' b'r' b'i' b'n' b'g' b' ' b's' b't' b'r' b'i' b'n' b'2']\n"
     ]
    }
   ],
   "source": [
    "a=np.fromiter([1,2,3,4],dtype='int8')\n",
    "b=np.fromiter((1,2,3,4),dtype='int8')\n",
    "c=np.fromiter(range(1,5),dtype='int8')\n",
    "d=np.fromiter('string strin2',dtype='S50')\n",
    "\n",
    "print(\"Array a is \",a)\n",
    "print(\"Array b is \",b)\n",
    "print(\"Array c is \",c)\n",
    "print(\"Array d is \",d)"
   ]
  },
  {
   "cell_type": "markdown",
   "metadata": {},
   "source": [
    "Bytes literals are always prefixed with 'b' or 'B'; they produce an instance of the bytes type instead of the str type.\n",
    "More details - https://docs.python.org/3/reference/lexical_analysis.html#string-and-bytes-literals\n"
   ]
  },
  {
   "cell_type": "markdown",
   "metadata": {},
   "source": [
    "## Creating with Numerical Ranges"
   ]
  },
  {
   "cell_type": "code",
   "execution_count": 30,
   "metadata": {},
   "outputs": [
    {
     "name": "stdout",
     "output_type": "stream",
     "text": [
      "[ 1  2  3  4  5  6  7  8  9 10 11 12 13 14 15 16 17 18 19]\n",
      "[ 1  3  5  7  9 11 13 15 17 19]\n"
     ]
    }
   ],
   "source": [
    "# NumPy array from 1 to 19\n",
    "print(np.arange(1,20,dtype='int32'))\n",
    "\n",
    "# NumPy array from 1 to 19 with step size 2\n",
    "print(np.arange(1,20,2,dtype='int8'))"
   ]
  },
  {
   "cell_type": "code",
   "execution_count": 31,
   "metadata": {},
   "outputs": [
    {
     "name": "stdout",
     "output_type": "stream",
     "text": [
      "[ 1.          1.19191919  1.38383838  1.57575758  1.76767677  1.95959596\n",
      "  2.15151515  2.34343434  2.53535354  2.72727273  2.91919192  3.11111111\n",
      "  3.3030303   3.49494949  3.68686869  3.87878788  4.07070707  4.26262626\n",
      "  4.45454545  4.64646465  4.83838384  5.03030303  5.22222222  5.41414141\n",
      "  5.60606061  5.7979798   5.98989899  6.18181818  6.37373737  6.56565657\n",
      "  6.75757576  6.94949495  7.14141414  7.33333333  7.52525253  7.71717172\n",
      "  7.90909091  8.1010101   8.29292929  8.48484848  8.67676768  8.86868687\n",
      "  9.06060606  9.25252525  9.44444444  9.63636364  9.82828283 10.02020202\n",
      " 10.21212121 10.4040404  10.5959596  10.78787879 10.97979798 11.17171717\n",
      " 11.36363636 11.55555556 11.74747475 11.93939394 12.13131313 12.32323232\n",
      " 12.51515152 12.70707071 12.8989899  13.09090909 13.28282828 13.47474747\n",
      " 13.66666667 13.85858586 14.05050505 14.24242424 14.43434343 14.62626263\n",
      " 14.81818182 15.01010101 15.2020202  15.39393939 15.58585859 15.77777778\n",
      " 15.96969697 16.16161616 16.35353535 16.54545455 16.73737374 16.92929293\n",
      " 17.12121212 17.31313131 17.50505051 17.6969697  17.88888889 18.08080808\n",
      " 18.27272727 18.46464646 18.65656566 18.84848485 19.04040404 19.23232323\n",
      " 19.42424242 19.61616162 19.80808081 20.        ]\n"
     ]
    }
   ],
   "source": [
    "# NumPy array from 1 to 20 with 100 numbers in between\n",
    "print(np.linspace(1,20,100))"
   ]
  },
  {
   "cell_type": "code",
   "execution_count": 32,
   "metadata": {},
   "outputs": [
    {
     "name": "stdout",
     "output_type": "stream",
     "text": [
      "[ 1  2  3  4  5  6  7  8  9 10 11 12 13 14 15 16 17 18 19 20]\n"
     ]
    }
   ],
   "source": [
    "print(np.linspace(1,20,20, dtype = 'int'))"
   ]
  },
  {
   "cell_type": "code",
   "execution_count": 33,
   "metadata": {},
   "outputs": [
    {
     "name": "stdout",
     "output_type": "stream",
     "text": [
      "[  1.           1.04761575   1.09749877   1.149757     1.20450354\n",
      "   1.26185688   1.32194115   1.38488637   1.45082878   1.51991108\n",
      "   1.59228279   1.66810054   1.7475284    1.83073828   1.91791026\n",
      "   2.009233     2.10490414   2.20513074   2.3101297    2.42012826\n",
      "   2.53536449   2.65608778   2.7825594    2.91505306   3.05385551\n",
      "   3.19926714   3.35160265   3.51119173   3.67837977   3.85352859\n",
      "   4.03701726   4.22924287   4.43062146   4.64158883   4.86260158\n",
      "   5.09413801   5.33669923   5.59081018   5.85702082   6.13590727\n",
      "   6.42807312   6.73415066   7.05480231   7.39072203   7.74263683\n",
      "   8.11130831   8.49753436   8.90215085   9.32603347   9.77009957\n",
      "  10.23531022  10.72267222  11.23324033  11.76811952  12.32846739\n",
      "  12.91549665  13.53047775  14.17474163  14.84968262  15.55676144\n",
      "  16.29750835  17.07352647  17.88649529  18.73817423  19.6304065\n",
      "  20.56512308  21.5443469   22.5701972   23.64489413  24.77076356\n",
      "  25.95024211  27.18588243  28.48035868  29.8364724   31.2571585\n",
      "  32.74549163  34.30469286  35.93813664  37.64935807  39.44206059\n",
      "  41.320124    43.28761281  45.34878508  47.50810162  49.77023564\n",
      "  52.14008288  54.62277218  57.22367659  59.94842503  62.80291442\n",
      "  65.79332247  68.92612104  72.20809018  75.64633276  79.24828984\n",
      "  83.02175681  86.97490026  91.11627561  95.45484567 100.        ]\n"
     ]
    }
   ],
   "source": [
    "# NumPy array from 10^0 to 10^2 with 100 numbers in log scale\n",
    "print(np.logspace(0,2,100))"
   ]
  },
  {
   "cell_type": "markdown",
   "metadata": {},
   "source": [
    "## Indexing and Slicing"
   ]
  },
  {
   "cell_type": "code",
   "execution_count": 34,
   "metadata": {},
   "outputs": [
    {
     "name": "stdout",
     "output_type": "stream",
     "text": [
      "[[1 2 3]\n",
      " [4 5 6]\n",
      " [7 8 9]]\n",
      "8\n",
      "==========\n",
      "[[1 2]\n",
      " [4 5]]\n",
      "==========\n",
      "[7 8 9]\n"
     ]
    }
   ],
   "source": [
    "a = np.array([[1,2,3],[4,5,6],[7,8,9]])\n",
    "print(a)\n",
    "\n",
    "# Pull out second element of third row\n",
    "print(a[2][1])\n",
    "print('==========')\n",
    "# Pull out first two rows and columns\n",
    "print(a[:2,:2])\n",
    "print('==========')\n",
    "# Pull all elements of the third row\n",
    "print(a[2,:])"
   ]
  },
  {
   "cell_type": "code",
   "execution_count": 35,
   "metadata": {
    "scrolled": true
   },
   "outputs": [
    {
     "name": "stdout",
     "output_type": "stream",
     "text": [
      "[[1 2]\n",
      " [3 4]\n",
      " [5 6]]\n",
      " \n",
      "[1 4 5]\n",
      "==========\n",
      "[1 4 5]\n",
      "==========\n",
      "[2 2]\n",
      "==========\n",
      "[2 2]\n"
     ]
    }
   ],
   "source": [
    "# An example of integer array indexing\n",
    "a=np.array([[1,2],[3,4],[5,6]])\n",
    "print(a)\n",
    "print(\" \")\n",
    "\n",
    "print(a[[0,1,2],[0,1,0]])\n",
    "print('==========')\n",
    "\n",
    "# [0, 0]\n",
    "# [1, 1]\n",
    "# [2, 0]\n",
    "\n",
    "print(np.array([a[0,0],a[1,1],a[2,0]]))\n",
    "print('==========')\n",
    "\n",
    "print(a[[0,0],[1,1]])\n",
    "print('==========')\n",
    "\n",
    "print(np.array([a[0,1],a[0,1]]))"
   ]
  },
  {
   "cell_type": "code",
   "execution_count": 36,
   "metadata": {},
   "outputs": [
    {
     "name": "stdout",
     "output_type": "stream",
     "text": [
      "[[ True  True False]\n",
      " [False  True  True]\n",
      " [ True False False]]\n",
      "[4 7 5 7 7]\n"
     ]
    }
   ],
   "source": [
    "a = np.array([[4,7,1],[2,5,7],[7,1,1]])\n",
    "\n",
    "# Boolean condition for values greater than 3\n",
    "mask = a > 3\n",
    "print(mask)\n",
    "\n",
    "# Masking for the above boolean condition in the array\n",
    "print(a[mask])"
   ]
  },
  {
   "cell_type": "markdown",
   "metadata": {},
   "source": [
    "## Vectorization"
   ]
  },
  {
   "cell_type": "code",
   "execution_count": 37,
   "metadata": {},
   "outputs": [
    {
     "name": "stdout",
     "output_type": "stream",
     "text": [
      "[ 3  4  5  6  7  8  9 10]\n",
      "CPU times: user 161 µs, sys: 59 µs, total: 220 µs\n",
      "Wall time: 189 µs\n"
     ]
    }
   ],
   "source": [
    "%%time\n",
    "a = np.array([1,2,3,4,5,6,7,8,9,10])\n",
    "print(a[a > 2])"
   ]
  },
  {
   "cell_type": "code",
   "execution_count": 38,
   "metadata": {},
   "outputs": [
    {
     "name": "stdout",
     "output_type": "stream",
     "text": [
      "[3, 4, 5, 6, 7, 8, 9, 10]\n",
      "CPU times: user 59 µs, sys: 40 µs, total: 99 µs\n",
      "Wall time: 77.7 µs\n"
     ]
    }
   ],
   "source": [
    "%%time\n",
    "a = [1,2,3,4,5,6,7,8,9,10]\n",
    "print([i for i in a if i > 2])"
   ]
  },
  {
   "cell_type": "code",
   "execution_count": 39,
   "metadata": {},
   "outputs": [
    {
     "data": {
      "text/plain": [
       "array([[1, 2, 3],\n",
       "       [4, 5, 6],\n",
       "       [7, 8, 9]])"
      ]
     },
     "execution_count": 39,
     "metadata": {},
     "output_type": "execute_result"
    },
    {
     "data": {
      "text/plain": [
       "array([[10, 11, 12],\n",
       "       [13, 14, 15],\n",
       "       [16, 17, 18]])"
      ]
     },
     "execution_count": 39,
     "metadata": {},
     "output_type": "execute_result"
    }
   ],
   "source": [
    "a = np.array([[1,2,3],[4,5,6],[7,8,9]])\n",
    "b = np.array([[10,11,12],[13,14,15],[16,17,18]])\n",
    "\n",
    "a\n",
    "b"
   ]
  },
  {
   "cell_type": "code",
   "execution_count": 40,
   "metadata": {},
   "outputs": [
    {
     "name": "stdout",
     "output_type": "stream",
     "text": [
      "[[11 13 15]\n",
      " [17 19 21]\n",
      " [23 25 27]]\n",
      "==========\n",
      "[[11 13 15]\n",
      " [17 19 21]\n",
      " [23 25 27]]\n"
     ]
    }
   ],
   "source": [
    "# element wise addition\n",
    "print(a+b)\n",
    "print('==========')\n",
    "print(np.add(a,b))"
   ]
  },
  {
   "cell_type": "code",
   "execution_count": 41,
   "metadata": {},
   "outputs": [
    {
     "name": "stdout",
     "output_type": "stream",
     "text": [
      "[[-9 -9 -9]\n",
      " [-9 -9 -9]\n",
      " [-9 -9 -9]]\n",
      "==========\n",
      "[[-9 -9 -9]\n",
      " [-9 -9 -9]\n",
      " [-9 -9 -9]]\n"
     ]
    }
   ],
   "source": [
    "# element wise subtractions\n",
    "print(a-b)\n",
    "print('==========')\n",
    "print(np.subtract(a,b))"
   ]
  },
  {
   "cell_type": "code",
   "execution_count": 42,
   "metadata": {},
   "outputs": [
    {
     "name": "stdout",
     "output_type": "stream",
     "text": [
      "[[ 10  22  36]\n",
      " [ 52  70  90]\n",
      " [112 136 162]]\n",
      "==========\n",
      "[[ 10  22  36]\n",
      " [ 52  70  90]\n",
      " [112 136 162]]\n"
     ]
    }
   ],
   "source": [
    "# element wise multiplication\n",
    "print(a*b)\n",
    "print('==========')\n",
    "print(np.multiply(a,b))"
   ]
  },
  {
   "cell_type": "code",
   "execution_count": 43,
   "metadata": {},
   "outputs": [
    {
     "name": "stdout",
     "output_type": "stream",
     "text": [
      "[[0.1        0.18181818 0.25      ]\n",
      " [0.30769231 0.35714286 0.4       ]\n",
      " [0.4375     0.47058824 0.5       ]]\n",
      "==========\n",
      "[[0.1        0.18181818 0.25      ]\n",
      " [0.30769231 0.35714286 0.4       ]\n",
      " [0.4375     0.47058824 0.5       ]]\n"
     ]
    }
   ],
   "source": [
    "# element wise division\n",
    "print(a/b)\n",
    "print('==========')\n",
    "print(np.divide(a,b))"
   ]
  },
  {
   "cell_type": "code",
   "execution_count": 44,
   "metadata": {},
   "outputs": [
    {
     "name": "stdout",
     "output_type": "stream",
     "text": [
      "[[1. 2. 3.]\n",
      " [4. 5. 6.]]\n"
     ]
    }
   ],
   "source": [
    "# element wise square root transform\n",
    "a = np.array([[1,4,9],[16,25,36]])\n",
    "print(np.sqrt(a))"
   ]
  },
  {
   "cell_type": "code",
   "execution_count": 45,
   "metadata": {},
   "outputs": [
    {
     "name": "stdout",
     "output_type": "stream",
     "text": [
      "[[0.         1.38629436 2.19722458]\n",
      " [2.77258872 3.21887582 3.58351894]]\n"
     ]
    }
   ],
   "source": [
    "# element wise square root transform\n",
    "a = np.array([[1,4,9],[16,25,36]])\n",
    "print(np.log(a))"
   ]
  },
  {
   "cell_type": "code",
   "execution_count": 46,
   "metadata": {},
   "outputs": [
    {
     "name": "stdout",
     "output_type": "stream",
     "text": [
      "True\n"
     ]
    }
   ],
   "source": [
    "a = np.array([1,2,3,4])\n",
    "b = np.array([1,2,3,4])\n",
    "print(np.array_equal(a,b))"
   ]
  },
  {
   "cell_type": "code",
   "execution_count": 47,
   "metadata": {},
   "outputs": [
    {
     "data": {
      "text/plain": [
       "array([[1, 2, 3],\n",
       "       [4, 5, 6]])"
      ]
     },
     "execution_count": 47,
     "metadata": {},
     "output_type": "execute_result"
    },
    {
     "name": "stdout",
     "output_type": "stream",
     "text": [
      "[5 7 9]\n",
      "==========\n",
      "[ 6 15]\n",
      "==========\n",
      "21\n"
     ]
    }
   ],
   "source": [
    "a = np.array([[1,2,3],[4, 5, 6]])\n",
    "a\n",
    "\n",
    "# computes sum over columns\n",
    "print(a.sum(axis=0))\n",
    "print('==========')\n",
    "\n",
    "# computes sum over rows\n",
    "print(a.sum(axis=1))\n",
    "print('==========')\n",
    "\n",
    "# computes total sum\n",
    "print(a.sum())"
   ]
  },
  {
   "cell_type": "markdown",
   "metadata": {},
   "source": [
    "## Broadcasting"
   ]
  },
  {
   "cell_type": "markdown",
   "metadata": {},
   "source": [
    "Consider you have two matrices $𝐴$ and $𝐵$ of orders $𝑎1×𝑎2$ and $𝑏1×𝑏2$ respectively.\n",
    "\n",
    "- Matrix **addition/subtraction** on the two matrices will be defined iff $𝑎1=𝑏1$ and $𝑎2=𝑏2$\n",
    "- Matrix **multiplication** on them is defined iff $𝑎2=𝑏1$ for $𝐴𝐵$ to be defined and $𝑏2=𝑎1$ for 𝐵𝐴 to be defined. \n",
    "- $𝐴𝐵$ will be of order $𝑎1×𝑏2$ and $𝐵𝐴$ will be of order $𝑏1×𝑎2$"
   ]
  },
  {
   "cell_type": "code",
   "execution_count": 48,
   "metadata": {},
   "outputs": [
    {
     "data": {
      "text/plain": [
       "array([5, 6, 7])"
      ]
     },
     "execution_count": 48,
     "metadata": {},
     "output_type": "execute_result"
    },
    {
     "data": {
      "text/plain": [
       "array([11, 22, 33])"
      ]
     },
     "execution_count": 48,
     "metadata": {},
     "output_type": "execute_result"
    }
   ],
   "source": [
    "np.array([1, 2, 3]) + 4\n",
    "np.array([1, 2, 3]) + np.array([10, 20, 30])"
   ]
  },
  {
   "cell_type": "markdown",
   "metadata": {},
   "source": [
    "- Broadcasting is a powerful mechanism that allows numpy to work with arrays of different shapes when performing arithmetic operations. \n",
    "- Frequently we have a smaller array and a larger array, and we want to use the smaller array multiple times to perform some operation on the larger array.\n",
    "\n",
    "For example, suppose that we want to add a constant vector to each row of a matrix."
   ]
  },
  {
   "cell_type": "code",
   "execution_count": 49,
   "metadata": {},
   "outputs": [
    {
     "name": "stdout",
     "output_type": "stream",
     "text": [
      "[[ 2  2  4]\n",
      " [ 5  5  7]\n",
      " [ 8  8 10]\n",
      " [11 11 13]]\n"
     ]
    }
   ],
   "source": [
    "import numpy as np\n",
    "\n",
    "# We will add the vector v to each row of the matrix x,\n",
    "# storing the result in the matrix y\n",
    "x = np.array([[1,2,3], [4,5,6], [7,8,9], [10, 11, 12]])\n",
    "v = np.array([1, 0, 1])\n",
    "y = np.empty_like(x)   # Create an empty matrix with the same shape as x\n",
    "\n",
    "# Add the vector v to each row of the matrix x with an explicit loop\n",
    "for i in range(4):\n",
    "    y[i, :] = x[i, :] + v\n",
    "\n",
    "# Now y is the following\n",
    "# [[ 2  2  4]\n",
    "#  [ 5  5  7]\n",
    "#  [ 8  8 10]\n",
    "#  [11 11 13]]\n",
    "print(y)"
   ]
  },
  {
   "cell_type": "markdown",
   "metadata": {},
   "source": [
    "- This works; however when the matrix x is very large, computing an explicit loop in Python could be slow. \n",
    "- Note that adding the vector v to each row of the matrix x is equivalent to forming a matrix vv by stacking multiple copies of v vertically, then performing elementwise summation of x and vv."
   ]
  },
  {
   "cell_type": "code",
   "execution_count": 50,
   "metadata": {},
   "outputs": [
    {
     "name": "stdout",
     "output_type": "stream",
     "text": [
      "[[1 0 1]\n",
      " [1 0 1]\n",
      " [1 0 1]\n",
      " [1 0 1]]\n",
      "[[ 2  2  4]\n",
      " [ 5  5  7]\n",
      " [ 8  8 10]\n",
      " [11 11 13]]\n"
     ]
    }
   ],
   "source": [
    "import numpy as np\n",
    "\n",
    "# We will add the vector v to each row of the matrix x,\n",
    "# storing the result in the matrix y\n",
    "x = np.array([[1,2,3], [4,5,6], [7,8,9], [10, 11, 12]])\n",
    "v = np.array([1, 0, 1])\n",
    "vv = np.tile(v, (4, 1))   # Stack 4 copies of v on top of each other\n",
    "print(vv)                 # Prints \"[[1 0 1]\n",
    "                          #          [1 0 1]\n",
    "                          #          [1 0 1]\n",
    "                          #          [1 0 1]]\"\n",
    "            \n",
    "y = x + vv  # Add x and vv elementwise\n",
    "print(y)  # Prints \"[[ 2  2  4\n",
    "          #          [ 5  5  7]\n",
    "          #          [ 8  8 10]\n",
    "          #          [11 11 13]]\""
   ]
  },
  {
   "cell_type": "markdown",
   "metadata": {},
   "source": [
    "Numpy broadcasting allows us to perform this computation without actually creating multiple copies of v. Consider this version, using broadcasting:"
   ]
  },
  {
   "cell_type": "code",
   "execution_count": 51,
   "metadata": {},
   "outputs": [
    {
     "name": "stdout",
     "output_type": "stream",
     "text": [
      "[[ 2  2  4]\n",
      " [ 5  5  7]\n",
      " [ 8  8 10]\n",
      " [11 11 13]]\n"
     ]
    }
   ],
   "source": [
    "import numpy as np\n",
    "\n",
    "# We will add the vector v to each row of the matrix x,\n",
    "# storing the result in the matrix y\n",
    "x = np.array([[1,2,3], [4,5,6], [7,8,9], [10, 11, 12]])\n",
    "v = np.array([1, 0, 1])\n",
    "y = x + v  # Add v to each row of x using broadcasting\n",
    "print(y)  # Prints \"[[ 2  2  4]\n",
    "          #          [ 5  5  7]\n",
    "          #          [ 8  8 10]\n",
    "          #          [11 11 13]]\""
   ]
  },
  {
   "cell_type": "markdown",
   "metadata": {},
   "source": [
    "The line y = x + v works even though x has shape (4, 3) and v has shape (3,) due to broadcasting; this line works as if v actually had shape (4, 3), where each row was a copy of v, and the sum was performed elementwise."
   ]
  },
  {
   "cell_type": "markdown",
   "metadata": {},
   "source": [
    "Applications of Broadcasting"
   ]
  },
  {
   "cell_type": "code",
   "execution_count": 52,
   "metadata": {},
   "outputs": [
    {
     "name": "stdout",
     "output_type": "stream",
     "text": [
      "[[ 4  5]\n",
      " [ 8 10]\n",
      " [12 15]]\n"
     ]
    }
   ],
   "source": [
    "import numpy as np\n",
    "\n",
    "# Compute outer product of vectors\n",
    "v = np.array([1,2,3])  # v has shape (3,)\n",
    "w = np.array([4,5])    # w has shape (2,)\n",
    "# To compute an outer product, we first reshape v to be a column\n",
    "# vector of shape (3, 1); we can then broadcast it against w to yield\n",
    "# an output of shape (3, 2), which is the outer product of v and w:\n",
    "# [[ 4  5]\n",
    "#  [ 8 10]\n",
    "#  [12 15]]\n",
    "print(np.reshape(v, (3, 1)) * w)"
   ]
  },
  {
   "cell_type": "code",
   "execution_count": 53,
   "metadata": {},
   "outputs": [
    {
     "name": "stdout",
     "output_type": "stream",
     "text": [
      "[[2 4 6]\n",
      " [5 7 9]]\n"
     ]
    }
   ],
   "source": [
    "# Add a vector to each row of a matrix\n",
    "x = np.array([[1,2,3], [4,5,6]])\n",
    "# x has shape (2, 3) and v has shape (3,) so they broadcast to (2, 3),\n",
    "# giving the following matrix:\n",
    "# [[2 4 6]\n",
    "#  [5 7 9]]\n",
    "print(x + v)"
   ]
  },
  {
   "cell_type": "code",
   "execution_count": 54,
   "metadata": {},
   "outputs": [
    {
     "name": "stdout",
     "output_type": "stream",
     "text": [
      "[[ 5  6  7]\n",
      " [ 9 10 11]]\n",
      "[[ 5  6  7]\n",
      " [ 9 10 11]]\n"
     ]
    }
   ],
   "source": [
    "# Add a vector to each column of a matrix\n",
    "# x has shape (2, 3) and w has shape (2,).\n",
    "# If we transpose x then it has shape (3, 2) and can be broadcast\n",
    "# against w to yield a result of shape (3, 2); transposing this result\n",
    "# yields the final result of shape (2, 3) which is the matrix x with\n",
    "# the vector w added to each column. Gives the following matrix:\n",
    "# [[ 5  6  7]\n",
    "#  [ 9 10 11]]\n",
    "print((x.T + w).T)\n",
    "# Another solution is to reshape w to be a column vector of shape (2, 1);\n",
    "# we can then broadcast it directly against x to produce the same\n",
    "# output.\n",
    "print(x + np.reshape(w, (2, 1)))"
   ]
  },
  {
   "cell_type": "markdown",
   "metadata": {},
   "source": [
    "# Convert from Centigrade to Fahrenheit"
   ]
  },
  {
   "cell_type": "markdown",
   "metadata": {},
   "source": [
    "Lets convert degrees in Centigrade scale to Fahrenheit scale. the formula is C/5 = (F - 32)/9, \n",
    "where C is the temperature in Centigrade scale and F the temperature in Fahrenheit scale.\n",
    "\n",
    "You will be converting the temperatures [0, 10, 25, 32, 80, 99.99] in Centigrades to Fahrenheit\n",
    "\n"
   ]
  },
  {
   "cell_type": "code",
   "execution_count": null,
   "metadata": {},
   "outputs": [],
   "source": []
  }
 ],
 "metadata": {
  "kernelspec": {
   "display_name": "Python 3",
   "language": "python",
   "name": "python3"
  },
  "language_info": {
   "codemirror_mode": {
    "name": "ipython",
    "version": 3
   },
   "file_extension": ".py",
   "mimetype": "text/x-python",
   "name": "python",
   "nbconvert_exporter": "python",
   "pygments_lexer": "ipython3",
   "version": "3.7.0"
  }
 },
 "nbformat": 4,
 "nbformat_minor": 2
}
