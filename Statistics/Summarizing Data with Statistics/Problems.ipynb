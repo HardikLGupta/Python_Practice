{
 "cells": [
  {
   "cell_type": "markdown",
   "metadata": {},
   "source": [
    "Philip takes four tests and scores the following marks. 42, 38, 45, 40 \n",
    "● write code using formula.\n",
    "● Write a code to calculate his median and mean scores.\n",
    "● If he scores 45 in his next test, does his mean score increase or decrease? Find his new mean score.\n",
    "● Which has increased by greater percent, his mean score or his median score?\n",
    "● Determine the mean and median, if he scores 72 in his next test(i.e add an outlier 72).Describe the effect the outlier has on the mean and median?"
   ]
  },
  {
   "cell_type": "code",
   "execution_count": null,
   "metadata": {},
   "outputs": [],
   "source": [
    "Find the mode for 8,6,2,4,6,8,10,6"
   ]
  },
  {
   "cell_type": "markdown",
   "metadata": {},
   "source": [
    "Analyze the performance of your class in the first Cohort taken at GreyAtom\n",
    "● How is the spread of the scores? Calculate Range, Mean Absolute Deviation, Standard Deviation\n",
    "● Find the 25th percentile, 50th percentile and 75 percentile for this data. Scores: 11, 7.5, 8.5, 10, 10, 10.5, 5.5, 10, 9, 9.5, 5.25, 8, 6.5, 10.5, 8.75, 0, 6, 6, 6.75, 8.75, 0, 9.5, 7.5, 8.5, 7\n",
    "● Alternatively calculate the mean, median, mode by creating dataframe of the scores and using the inbuilt functions(.mean(), median(), mode())"
   ]
  }
 ],
 "metadata": {
  "kernelspec": {
   "display_name": "Python 3",
   "language": "python",
   "name": "python3"
  },
  "language_info": {
   "codemirror_mode": {
    "name": "ipython",
    "version": 3
   },
   "file_extension": ".py",
   "mimetype": "text/x-python",
   "name": "python",
   "nbconvert_exporter": "python",
   "pygments_lexer": "ipython3",
   "version": "3.7.0"
  }
 },
 "nbformat": 4,
 "nbformat_minor": 2
}
