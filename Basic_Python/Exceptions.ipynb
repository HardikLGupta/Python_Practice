{
 "cells": [
  {
   "cell_type": "code",
   "execution_count": 5,
   "metadata": {},
   "outputs": [
    {
     "name": "stdout",
     "output_type": "stream",
     "text": [
      "-10\n"
     ]
    },
    {
     "ename": "NameError",
     "evalue": "name 'Hardik' is not defined",
     "output_type": "error",
     "traceback": [
      "\u001b[0;31m---------------------------------------------------------------------------\u001b[0m",
      "\u001b[0;31mNameError\u001b[0m                                 Traceback (most recent call last)",
      "\u001b[0;32m<ipython-input-5-f49eca6aa1e2>\u001b[0m in \u001b[0;36m<module>\u001b[0;34m()\u001b[0m\n\u001b[1;32m      4\u001b[0m \u001b[0;31m# raise exception if input is negative\u001b[0m\u001b[0;34m\u001b[0m\u001b[0;34m\u001b[0m\u001b[0m\n\u001b[1;32m      5\u001b[0m \u001b[0;32mif\u001b[0m \u001b[0mnum\u001b[0m \u001b[0;34m<\u001b[0m \u001b[0;36m0\u001b[0m\u001b[0;34m:\u001b[0m\u001b[0;34m\u001b[0m\u001b[0m\n\u001b[0;32m----> 6\u001b[0;31m     \u001b[0;32mraise\u001b[0m \u001b[0mHardik\u001b[0m\u001b[0;34m(\u001b[0m\u001b[0;34m'{} is negative, please enter a positive number'\u001b[0m\u001b[0;34m.\u001b[0m\u001b[0mformat\u001b[0m\u001b[0;34m(\u001b[0m\u001b[0mnum\u001b[0m\u001b[0;34m)\u001b[0m\u001b[0;34m)\u001b[0m\u001b[0;34m\u001b[0m\u001b[0m\n\u001b[0m\u001b[1;32m      7\u001b[0m \u001b[0;34m\u001b[0m\u001b[0m\n\u001b[1;32m      8\u001b[0m \u001b[0;31m# print input number if it is not negative\u001b[0m\u001b[0;34m\u001b[0m\u001b[0;34m\u001b[0m\u001b[0m\n",
      "\u001b[0;31mNameError\u001b[0m: name 'Hardik' is not defined"
     ]
    }
   ],
   "source": [
    "# custom input\n",
    "num = int(input())\n",
    "\n",
    "# raise exception if input is negative\n",
    "if num < 0:\n",
    "    raise Hardik('{} is negative, please enter a positive number'.format(num))\n",
    "\n",
    "# print input number if it is not negative\n",
    "print('Your number is accepted!')"
   ]
  },
  {
   "cell_type": "markdown",
   "metadata": {},
   "source": [
    "# Types of Error"
   ]
  },
  {
   "cell_type": "markdown",
   "metadata": {},
   "source": [
    "1. IndexError: trying to access beyond list limits\n",
    "\n",
    "2. TypeError: operand doesn’t have correct type\n",
    "\n",
    "3. SyntaxError: Python can’t parse program\n",
    "4. NameError: local or global name not found\n",
    "5. ValueError: operand type okay, but value is illegal\n",
    "6. IOError: IO system reports malfunction (e.g. file not found)\n"
   ]
  },
  {
   "cell_type": "code",
   "execution_count": 3,
   "metadata": {},
   "outputs": [
    {
     "ename": "ValueError",
     "evalue": "invalid literal for int() with base 10: 's'",
     "output_type": "error",
     "traceback": [
      "\u001b[0;31m---------------------------------------------------------------------------\u001b[0m",
      "\u001b[0;31mValueError\u001b[0m                                Traceback (most recent call last)",
      "\u001b[0;32m<ipython-input-3-61f7ab14298a>\u001b[0m in \u001b[0;36m<module>\u001b[0;34m()\u001b[0m\n\u001b[0;32m----> 1\u001b[0;31m \u001b[0mint\u001b[0m\u001b[0;34m(\u001b[0m\u001b[0;34m\"s\"\u001b[0m\u001b[0;34m)\u001b[0m\u001b[0;34m\u001b[0m\u001b[0m\n\u001b[0m",
      "\u001b[0;31mValueError\u001b[0m: invalid literal for int() with base 10: 's'"
     ]
    }
   ],
   "source": [
    "int(\"s\")"
   ]
  },
  {
   "cell_type": "code",
   "execution_count": 7,
   "metadata": {},
   "outputs": [
    {
     "name": "stdout",
     "output_type": "stream",
     "text": [
      "IndexError has been found!\n"
     ]
    }
   ],
   "source": [
    "name = 'Hello World!'\n",
    "try:\n",
    "    char = name[15]\n",
    "    print(char)\n",
    "\n",
    "except Exception:\n",
    "    print('IndexError has been found!')"
   ]
  },
  {
   "cell_type": "code",
   "execution_count": 11,
   "metadata": {},
   "outputs": [
    {
     "data": {
      "text/plain": [
       "str"
      ]
     },
     "execution_count": 11,
     "metadata": {},
     "output_type": "execute_result"
    }
   ],
   "source": [
    "i = 10.1\n",
    "type(str(i))"
   ]
  },
  {
   "cell_type": "code",
   "execution_count": 14,
   "metadata": {},
   "outputs": [
    {
     "name": "stdout",
     "output_type": "stream",
     "text": [
      "caught ZeroDivisionError\n"
     ]
    }
   ],
   "source": [
    "den = 0\n",
    "\n",
    "try:\n",
    "    print(45/den)\n",
    "except ValueError:\n",
    "    print('caught ValueError')\n",
    "except ZeroDivisionError:\n",
    "    print('caught ZeroDivisionError')\n",
    "# except TypeError:\n",
    "#     print('caught you')\n",
    "except Exception:\n",
    "    print('caught you')"
   ]
  },
  {
   "cell_type": "code",
   "execution_count": 16,
   "metadata": {},
   "outputs": [
    {
     "name": "stdout",
     "output_type": "stream",
     "text": [
      "3.75\n",
      "Successfully divided\n",
      "Done\n"
     ]
    }
   ],
   "source": [
    "# try-except-else block\n",
    "try:\n",
    "   print(45/12)\n",
    "   print('Successfully divided')\n",
    "   print(\"Done\")\n",
    "except ValueError:\n",
    "   print('caught ValueError')\n",
    "except ZeroDivisionError:\n",
    "   print('caught ZeroDivisionError')\n",
    "else:\n",
    "   print('Successfully divided')\n",
    "   print(\"Done\")\n"
   ]
  },
  {
   "cell_type": "code",
   "execution_count": 17,
   "metadata": {},
   "outputs": [
    {
     "name": "stdout",
     "output_type": "stream",
     "text": [
      "caught ZeroDivisionError\n",
      "Every block executed!\n"
     ]
    }
   ],
   "source": [
    "try:\n",
    "   print(45/0)\n",
    "except ValueError:\n",
    "   print('caught ValueError')\n",
    "except ZeroDivisionError:\n",
    "   print('caught ZeroDivisionError')\n",
    "else:\n",
    "   print('Successfully divided')\n",
    "finally:\n",
    "   print('Every block executed!')"
   ]
  },
  {
   "cell_type": "code",
   "execution_count": null,
   "metadata": {},
   "outputs": [],
   "source": []
  }
 ],
 "metadata": {
  "kernelspec": {
   "display_name": "Python 3",
   "language": "python",
   "name": "python3"
  },
  "language_info": {
   "codemirror_mode": {
    "name": "ipython",
    "version": 3
   },
   "file_extension": ".py",
   "mimetype": "text/x-python",
   "name": "python",
   "nbconvert_exporter": "python",
   "pygments_lexer": "ipython3",
   "version": "3.7.0"
  }
 },
 "nbformat": 4,
 "nbformat_minor": 2
}
